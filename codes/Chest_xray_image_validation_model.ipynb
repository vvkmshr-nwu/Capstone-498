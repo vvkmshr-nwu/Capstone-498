{
 "cells": [
  {
   "cell_type": "markdown",
   "id": "138b3ade-8697-42cc-ab9e-b43f7b3cfe69",
   "metadata": {},
   "source": [
    "#### Import Required Libraries"
   ]
  },
  {
   "cell_type": "code",
   "execution_count": null,
   "id": "4cfa5c27-217c-4d8b-9be3-589bb5e81f44",
   "metadata": {},
   "outputs": [],
   "source": [
    "!pip install pdf2image"
   ]
  },
  {
   "cell_type": "code",
   "execution_count": null,
   "id": "4261ab39-a3b7-4ec9-b8f0-af1a8b4da5ae",
   "metadata": {},
   "outputs": [],
   "source": [
    "import os\n",
    "import cv2\n",
    "import numpy as np\n",
    "import joblib\n",
    "import matplotlib.pyplot as plt\n",
    "from skimage.feature import hog\n",
    "from sklearn.model_selection import train_test_split\n",
    "from sklearn.metrics import accuracy_score, precision_score, recall_score, f1_score, confusion_matrix, classification_report\n",
    "import seaborn as sns\n",
    "from sklearn.ensemble import RandomForestClassifier\n",
    "import pydicom\n",
    "from pdf2image import convert_from_path"
   ]
  },
  {
   "cell_type": "markdown",
   "id": "d68b6d5c-02c5-47b6-95a9-a42234966082",
   "metadata": {},
   "source": [
    "#### Feature Extraction: HOG + Canny"
   ]
  },
  {
   "cell_type": "code",
   "execution_count": null,
   "id": "3371d778-d617-4581-8b19-4843403e32e2",
   "metadata": {},
   "outputs": [],
   "source": [
    "def extract_hog_canny_features(img_path, visualize=True):\n",
    "    \"\"\"Extract and visualize combined HOG and Canny Edge features from an image.\"\"\"\n",
    "    # Load image in grayscale\n",
    "    img = cv2.imread(img_path, cv2.IMREAD_GRAYSCALE)\n",
    "\n",
    "        # Check if image was loaded correctly\n",
    "    if img is None:\n",
    "        print(f\"⚠️ Warning: Unable to read image {img_path}\")\n",
    "        return None  # Skip this image\n",
    "        \n",
    "    img = cv2.resize(img, (600, 600))  # Resize for consistency\n",
    "\n",
    "    # 1️⃣ Extract HOG features\n",
    "    # hog_features, hog_image = hog(img, orientations=9, pixels_per_cell=(8, 8),\n",
    "    #                               cells_per_block=(2, 2), visualize=True)\n",
    "    hog_features, hog_image = hog(img, orientations=12, pixels_per_cell=(4, 4),\n",
    "                              cells_per_block=(2, 2), visualize=True)\n",
    "\n",
    "    # 2️⃣ Extract Canny edges\n",
    "    canny_edges = cv2.Canny(img, threshold1=30, threshold2=100)\n",
    "\n",
    "    # 3️⃣ Combine HOG + Canny features\n",
    "    canny_features = canny_edges.flatten()  # Flatten edge data\n",
    "    combined_features = np.concatenate((hog_features, canny_features))  # Final feature vector\n",
    "\n",
    "    # Visualize Results\n",
    "    if visualize:\n",
    "        fig, axes = plt.subplots(1, 3, figsize=(12, 4))\n",
    "        axes[0].imshow(img, cmap='gray')\n",
    "        axes[0].set_title(\"Original Image\")\n",
    "        \n",
    "        axes[1].imshow(hog_image, cmap='gray')\n",
    "        axes[1].set_title(\"HOG Features\")\n",
    "\n",
    "        axes[2].imshow(canny_edges, cmap='gray')\n",
    "        axes[2].set_title(\"Canny Edges\")\n",
    "\n",
    "        plt.show()\n",
    "\n",
    "    return combined_features"
   ]
  },
  {
   "cell_type": "markdown",
   "id": "75a79077-c59e-480b-b796-d5669a98b345",
   "metadata": {},
   "source": [
    "#### Test on a Sample Chest X-ray Image"
   ]
  },
  {
   "cell_type": "code",
   "execution_count": null,
   "id": "1bfb9e6f-ccc9-4737-8b9a-290ab8c6db5d",
   "metadata": {},
   "outputs": [],
   "source": [
    "sample_image = r\"C:\\Users\\abhin\\OneDrive\\MSDS_Northwestern_University\\Courses\\MSDSP_498_Capstone\\Lung_diseases_detection\\chest_xray_detector\\chest_xrays1000\\00028175_000.png\"  # Change to actual image path\n",
    "extract_hog_canny_features(sample_image, visualize=True)"
   ]
  },
  {
   "cell_type": "markdown",
   "id": "c64b4ab4-7913-4f9d-966a-3eb7fb8365e1",
   "metadata": {},
   "source": [
    "#### Test on Sample non - Chest X-ray Images"
   ]
  },
  {
   "cell_type": "code",
   "execution_count": null,
   "id": "456d3cdb-699f-493c-b91f-a049948e75b5",
   "metadata": {},
   "outputs": [],
   "source": [
    "sample_image = r\"C:\\Users\\abhin\\OneDrive\\MSDS_Northwestern_University\\Courses\\MSDSP_498_Capstone\\Lung_diseases_detection\\chest_xray_detector\\non_xrays\\Te-gl_0050.jpg\"  # Change to actual image path\n",
    "extract_hog_canny_features(sample_image, visualize=True)"
   ]
  },
  {
   "cell_type": "code",
   "execution_count": null,
   "id": "e2c9ea69-e085-49bf-9b3f-00d9d891c2b9",
   "metadata": {},
   "outputs": [],
   "source": [
    "sample_image = r\"C:\\Users\\abhin\\OneDrive\\MSDS_Northwestern_University\\Courses\\MSDSP_498_Capstone\\Lung_diseases_detection\\chest_xray_detector\\non_chestxrays1000\\Image_5_15.jpg\"  # Change to actual image path\n",
    "extract_hog_canny_features(sample_image, visualize=True)"
   ]
  },
  {
   "cell_type": "markdown",
   "id": "493bf639-d922-4fea-a3f6-04f5bd062fff",
   "metadata": {},
   "source": [
    "####  Extract Features from Chest X-rays & Non-X-rays"
   ]
  },
  {
   "cell_type": "code",
   "execution_count": null,
   "id": "576a2a48-edcc-4cf7-ac58-4db39ff2b7d2",
   "metadata": {},
   "outputs": [],
   "source": [
    "# Define dataset paths\n",
    "chest_xray_dir = r\"C:\\Users\\abhin\\OneDrive\\MSDS_Northwestern_University\\Courses\\MSDSP_498_Capstone\\Lung_diseases_detection\\chest_xray_detector\\chest_xrays1000\"\n",
    "non_xray_dir = r\"C:\\Users\\abhin\\OneDrive\\MSDS_Northwestern_University\\Courses\\MSDSP_498_Capstone\\Lung_diseases_detection\\chest_xray_detector\\non_chestxrays1000\"\n",
    "\n",
    "chest_xray_features = []\n",
    "non_xray_features = []\n",
    "\n",
    "# Extract features from Chest X-rays\n",
    "for img_name in os.listdir(chest_xray_dir):\n",
    "    img_path = os.path.join(chest_xray_dir, img_name)\n",
    "    if img_name.lower().endswith(('.png', '.jpg', '.jpeg')):  # Ensure valid image\n",
    "        features = extract_hog_canny_features(img_path, visualize=False)\n",
    "        if features is not None:  # Only add valid features\n",
    "            chest_xray_features.append(features)\n",
    "\n",
    "# Extract features from Non-X-ray images\n",
    "for img_name in os.listdir(non_xray_dir):\n",
    "    img_path = os.path.join(non_xray_dir, img_name)\n",
    "    if img_name.lower().endswith(('.png', '.jpg', '.jpeg')):  # Ensure valid image\n",
    "        features = extract_hog_canny_features(img_path, visualize=False)\n",
    "        if features is not None:  # Only add valid features\n",
    "            non_xray_features.append(features)\n",
    "\n",
    "# Validate dataset size\n",
    "print(\"Extracted\", len(chest_xray_features), \"chest X-ray features\")\n",
    "print(\"Extracted\", len(non_xray_features), \"non-X-ray features\")\n",
    "\n",
    "# Ensure data is not empty\n",
    "if len(chest_xray_features) == 0 or len(non_xray_features) == 0:\n",
    "    raise ValueError(\"Feature extraction failed. Check image paths and dataset structure.\")\n"
   ]
  },
  {
   "cell_type": "markdown",
   "id": "e2486583-2624-44fd-951b-5f8cf761dc7e",
   "metadata": {},
   "source": [
    "#### Train a Random Forest Model on HOG + Canny Features"
   ]
  },
  {
   "cell_type": "code",
   "execution_count": null,
   "id": "23026b97-30f8-404f-a34b-e4ada36d805a",
   "metadata": {},
   "outputs": [],
   "source": [
    "# Convert lists to NumPy arrays\n",
    "X = np.array(chest_xray_features + non_xray_features)\n",
    "y = np.array([1] * len(chest_xray_features) + [0] * len(non_xray_features))  # 1 = Chest X-ray, 0 = Non-X-ray\n",
    "\n",
    "# Train-Test Split\n",
    "X_train, X_test, y_train, y_test = train_test_split(X, y, test_size=0.2, random_state=42)\n",
    "\n",
    "# Train RF Model\n",
    "rf_model = RandomForestClassifier(n_estimators=100, random_state=42)\n",
    "rf_model.fit(X_train, y_train)\n",
    "\n",
    "# Save the trained model\n",
    "joblib.dump(rf_model, \"chest_xray_rf_model_v2_hybrid.pkl\")\n",
    "print(\"Random Forest Model saved successfully!\")"
   ]
  },
  {
   "cell_type": "markdown",
   "id": "80b7f943-e961-47d4-b593-bd54d41020c7",
   "metadata": {},
   "source": [
    "#### Model Evaluation"
   ]
  },
  {
   "cell_type": "code",
   "execution_count": null,
   "id": "a9fd7a25-a6b7-4a91-90a6-34508ec1b13f",
   "metadata": {},
   "outputs": [],
   "source": [
    "# Load trained model\n",
    "rf_model = joblib.load(\"chest_xray_rf_model_v2_hybrid.pkl\")\n",
    "\n",
    "# Make Predictions\n",
    "y_pred = rf_model.predict(X_test)\n",
    "\n",
    "# Calculate Metrics\n",
    "accuracy = accuracy_score(y_test, y_pred)\n",
    "precision = precision_score(y_test, y_pred)\n",
    "recall = recall_score(y_test, y_pred)\n",
    "f1 = f1_score(y_test, y_pred)\n",
    "\n",
    "print(f\"✅ Accuracy: {accuracy:.4f}\")\n",
    "print(f\"✅ Precision: {precision:.4f}\")\n",
    "print(f\"✅ Recall: {recall:.4f}\")\n",
    "print(f\"✅ F1-score: {f1:.4f}\")\n",
    "\n",
    "# Classification Report\n",
    "print(\"\\nClassification Report:\\n\", classification_report(y_test, y_pred))\n",
    "\n",
    "# Confusion Matrix\n",
    "cm = confusion_matrix(y_test, y_pred)\n",
    "plt.figure(figsize=(6, 5))\n",
    "sns.heatmap(cm, annot=True, fmt=\"d\", cmap=\"Blues\", xticklabels=[\"Non-X-ray\", \"Chest X-ray\"], yticklabels=[\"Non-X-ray\", \"Chest X-ray\"])\n",
    "plt.xlabel(\"Predicted\")\n",
    "plt.ylabel(\"Actual\")\n",
    "plt.title(\"Confusion Matrix\")\n",
    "plt.show()\n"
   ]
  },
  {
   "cell_type": "markdown",
   "id": "a883b522-a573-4eaa-bfb0-03fb6cf2a590",
   "metadata": {},
   "source": [
    "### Predict New Images Using the Hybrid Model"
   ]
  },
  {
   "cell_type": "markdown",
   "id": "287590b9-6563-47e2-a9c1-c6e833c59915",
   "metadata": {},
   "source": [
    "#### Convert DICOM images to PNG"
   ]
  },
  {
   "cell_type": "code",
   "execution_count": null,
   "id": "78846a31-bfdc-4fd0-95d0-b452f40e3109",
   "metadata": {},
   "outputs": [],
   "source": [
    "def convert_dicom_to_image(dicom_path):\n",
    "    \"\"\"Convert DICOM (.dcm) file to a standard image format (JPG/PNG).\"\"\"\n",
    "    try:\n",
    "        dicom_data = pydicom.dcmread(dicom_path)  # Read DICOM file\n",
    "        image_array = dicom_data.pixel_array  # Extract pixel data\n",
    "\n",
    "        # Normalize pixel values (DICOMs often have high bit depths)\n",
    "        image_array = (image_array - np.min(image_array)) / (np.max(image_array) - np.min(image_array))\n",
    "        image_array = (image_array * 255).astype(np.uint8)  # Convert to 8-bit image\n",
    "\n",
    "        # Save as PNG\n",
    "        img_path = dicom_path.replace(\".dcm\", \".png\")\n",
    "        cv2.imwrite(img_path, image_array)\n",
    "        print(f\"✅ DICOM converted to image: {img_path}\")\n",
    "\n",
    "        return img_path\n",
    "    except Exception as e:\n",
    "        print(f\"⚠️ Error converting DICOM to image: {str(e)}\")\n",
    "        return None\n"
   ]
  },
  {
   "cell_type": "markdown",
   "id": "ba95f797-3b46-4488-bbb0-45d4768425c8",
   "metadata": {},
   "source": [
    "#### Predict New images"
   ]
  },
  {
   "cell_type": "code",
   "execution_count": null,
   "id": "8de678fa-455e-43a4-b301-be0cf5d38474",
   "metadata": {},
   "outputs": [],
   "source": [
    "def classify_image(file_path):\n",
    "    \"\"\"Classify an image, or DICOM file using HOG + Canny with a trained model.\"\"\"\n",
    "    # Step 1: Determine file type\n",
    "    file_extension = os.path.splitext(file_path)[-1].lower()\n",
    "\n",
    "    if file_extension == \".dcm\":\n",
    "        # Convert DICOM to standard image\n",
    "        img_path = convert_dicom_to_image(file_path)\n",
    "    elif file_extension in [\".png\", \".jpg\", \".jpeg\"]:\n",
    "        img_path = file_path  # It's already an image\n",
    "    else:\n",
    "        print(\"❌ Unsupported file format:\", file_extension)\n",
    "        return \"Invalid file type\"\n",
    "\n",
    "    # If conversion failed, return error\n",
    "    if img_path is None:\n",
    "        return \"Image extraction/conversion failed\"\n",
    "\n",
    "    # Step 2: Load the trained model\n",
    "    rf_model = joblib.load(\"chest_xray_rf_model_hybrid.pkl\")\n",
    "\n",
    "    # Step 3: Extract HOG + Canny features from the uploaded image\n",
    "    features = extract_hog_canny_features(img_path)\n",
    "    if features is None:\n",
    "        return \"❌ Failed to extract features from image\"\n",
    "\n",
    "    features = np.array(features).reshape(1, -1)  # Reshape for prediction\n",
    "\n",
    "    # Step 4: Get prediction\n",
    "    prediction = rf_model.predict(features)\n",
    "    confidence = rf_model.predict_proba(features)[0][1]  # Confidence score for \"Chest X-ray\"\n",
    "\n",
    "    return \"Chest X-ray\" if prediction[0] == 1 else \"Non-Chest X-ray\", confidence\n"
   ]
  },
  {
   "cell_type": "markdown",
   "id": "898c1f95-46ab-44f8-bfd1-78341441cd25",
   "metadata": {},
   "source": [
    "#### Test on Sample Images"
   ]
  },
  {
   "cell_type": "markdown",
   "id": "c1e3896b-e8be-4e68-88c5-3becf7698f0b",
   "metadata": {},
   "source": [
    "#### png/jpg images of chest xrays"
   ]
  },
  {
   "cell_type": "code",
   "execution_count": null,
   "id": "19c512d4-0181-4975-86f8-04ff86368328",
   "metadata": {},
   "outputs": [],
   "source": [
    "test_image = r\"C:\\Users\\abhin\\OneDrive\\MSDS_Northwestern_University\\Courses\\MSDSP_498_Capstone\\Lung_diseases_detection\\chest_xray_detector\\test_files\\CHNCXR_0029_0.png\"  # Change this to an image path\n",
    "result, conf = classify_image(test_image)\n",
    "print(f\"Prediction: {result}, Confidence: {conf:.2f}\")"
   ]
  },
  {
   "cell_type": "code",
   "execution_count": null,
   "id": "9c96b6e1-1b4c-4abc-b4f9-b7560eac98f9",
   "metadata": {},
   "outputs": [],
   "source": [
    "test_image = r\"C:\\Users\\abhin\\OneDrive\\MSDS_Northwestern_University\\Courses\\MSDSP_498_Capstone\\Lung_diseases_detection\\chest_xray_detector\\test_files\\CHNCXR_0030_0.png\"  # Change this to an image path\n",
    "result, conf = classify_image(test_image)\n",
    "print(f\"Prediction: {result}, Confidence: {conf:.2f}\")"
   ]
  },
  {
   "cell_type": "code",
   "execution_count": null,
   "id": "66c4a3c2-d16c-4c3a-b22d-576cab1f9647",
   "metadata": {},
   "outputs": [],
   "source": [
    "test_image = r\"C:\\Users\\abhin\\OneDrive\\MSDS_Northwestern_University\\Courses\\MSDSP_498_Capstone\\Lung_diseases_detection\\chest_xray_detector\\test_files\\CHNCXR_0031_0.png\"  # Change this to an image path\n",
    "result, conf = classify_image(test_image)\n",
    "print(f\"Prediction: {result}, Confidence: {conf:.2f}\")"
   ]
  },
  {
   "cell_type": "markdown",
   "id": "aafb5022-feec-480d-9671-1c0492caa789",
   "metadata": {},
   "source": [
    "#### png/jpg images of non-chest xrays"
   ]
  },
  {
   "cell_type": "code",
   "execution_count": null,
   "id": "7c7d1a78-fae3-4a25-8fa9-a23080d1e9c7",
   "metadata": {},
   "outputs": [],
   "source": [
    "test_image = r\"C:\\Users\\abhin\\OneDrive\\MSDS_Northwestern_University\\Courses\\MSDSP_498_Capstone\\Lung_diseases_detection\\chest_xray_detector\\test_files\\Te-gl_0181.jpg\"  # Change this to an image path\n",
    "result, conf = classify_image(test_image)\n",
    "print(f\"Prediction: {result}, Confidence: {conf:.2f}\")"
   ]
  },
  {
   "cell_type": "code",
   "execution_count": null,
   "id": "022bc7e4-eeab-4da7-b33b-f163e178e630",
   "metadata": {},
   "outputs": [],
   "source": [
    "test_image = r\"C:\\Users\\abhin\\OneDrive\\MSDS_Northwestern_University\\Courses\\MSDSP_498_Capstone\\Lung_diseases_detection\\chest_xray_detector\\test_files\\Image_87_16.jpg\"  # Change this to an image path\n",
    "result, conf = classify_image(test_image)\n",
    "print(f\"Prediction: {result}, Confidence: {conf:.2f}\")"
   ]
  },
  {
   "cell_type": "markdown",
   "id": "9cb3d47e-9f15-492a-ad2e-8b4d01595a2e",
   "metadata": {},
   "source": [
    "#### Test for Dicom images of chest xrays"
   ]
  },
  {
   "cell_type": "code",
   "execution_count": null,
   "id": "04b99076-9c37-40db-801d-4a39189a60b0",
   "metadata": {},
   "outputs": [],
   "source": [
    "test_image = r\"C:\\Users\\abhin\\OneDrive\\MSDS_Northwestern_University\\Courses\\MSDSP_498_Capstone\\Lung_diseases_detection\\chest_xray_detector\\test_files\\00c0f4e4-ac8b-4dea-8231-802f6b9860dc.dcm\"  # Change this to an image path\n",
    "result, conf = classify_image(test_image)\n",
    "print(f\"Prediction: {result}, Confidence: {conf:.2f}\")"
   ]
  },
  {
   "cell_type": "code",
   "execution_count": null,
   "id": "56b9f6f1-4683-41f4-891d-ecb6b5a51c2f",
   "metadata": {},
   "outputs": [],
   "source": [
    "test_image = r\"C:\\Users\\abhin\\OneDrive\\MSDS_Northwestern_University\\Courses\\MSDSP_498_Capstone\\Lung_diseases_detection\\chest_xray_detector\\test_files\\00c67fbc-35f6-4058-88b4-4bfad19014ec.dcm\"  # Change this to an image path\n",
    "result, conf = classify_image(test_image)\n",
    "print(f\"Prediction: {result}, Confidence: {conf:.2f}\")"
   ]
  },
  {
   "cell_type": "code",
   "execution_count": null,
   "id": "a83dcc6e-60d1-4121-90b5-9e667637e71e",
   "metadata": {},
   "outputs": [],
   "source": []
  }
 ],
 "metadata": {
  "kernelspec": {
   "display_name": "Python 3 (ipykernel)",
   "language": "python",
   "name": "python3"
  },
  "language_info": {
   "codemirror_mode": {
    "name": "ipython",
    "version": 3
   },
   "file_extension": ".py",
   "mimetype": "text/x-python",
   "name": "python",
   "nbconvert_exporter": "python",
   "pygments_lexer": "ipython3",
   "version": "3.11.5"
  }
 },
 "nbformat": 4,
 "nbformat_minor": 5
}
